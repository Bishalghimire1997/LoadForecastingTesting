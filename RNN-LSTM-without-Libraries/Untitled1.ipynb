{
 "cells": [
  {
   "cell_type": "code",
   "execution_count": null,
   "id": "e828e239-5046-4d5a-955f-123940332a24",
   "metadata": {},
   "outputs": [],
   "source": [
    "while True:\n",
    "    a=int(input(\"please eneter a number from 1 to 9\"))\n",
    "\n",
    "    if (a>5):\n",
    "        print(\"Maya is aachi\")\n",
    "    else:\n",
    "        print(\"Maya is love\")"
   ]
  },
  {
   "cell_type": "code",
   "execution_count": null,
   "id": "9033cb11-d5a6-4777-acf2-27c04e72ff47",
   "metadata": {},
   "outputs": [],
   "source": []
  }
 ],
 "metadata": {
  "kernelspec": {
   "display_name": "Python 3 (ipykernel)",
   "language": "python",
   "name": "python3"
  },
  "language_info": {
   "codemirror_mode": {
    "name": "ipython",
    "version": 3
   },
   "file_extension": ".py",
   "mimetype": "text/x-python",
   "name": "python",
   "nbconvert_exporter": "python",
   "pygments_lexer": "ipython3",
   "version": "3.9.13"
  }
 },
 "nbformat": 4,
 "nbformat_minor": 5
}
